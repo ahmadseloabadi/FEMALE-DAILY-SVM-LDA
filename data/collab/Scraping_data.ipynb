{
  "cells": [
    {
      "cell_type": "code",
      "execution_count": 1,
      "metadata": {
        "colab": {
          "base_uri": "https://localhost:8080/"
        },
        "id": "Jnl1ReNfmfd5",
        "outputId": "eb77bcc4-4da6-4aed-e365-031547798b8a"
      },
      "outputs": [
        {
          "name": "stdout",
          "output_type": "stream",
          "text": [
            "\u001b[2K     \u001b[90m━━━━━━━━━━━━━━━━━━━━━━━━━━━━━━━━━━━━━━━━\u001b[0m \u001b[32m9.5/9.5 MB\u001b[0m \u001b[31m15.8 MB/s\u001b[0m eta \u001b[36m0:00:00\u001b[0m\n",
            "\u001b[2K     \u001b[90m━━━━━━━━━━━━━━━━━━━━━━━━━━━━━━━━━━━━━━━━\u001b[0m \u001b[32m467.7/467.7 kB\u001b[0m \u001b[31m34.1 MB/s\u001b[0m eta \u001b[36m0:00:00\u001b[0m\n",
            "\u001b[2K     \u001b[90m━━━━━━━━━━━━━━━━━━━━━━━━━━━━━━━━━━━━━━━━\u001b[0m \u001b[32m58.3/58.3 kB\u001b[0m \u001b[31m5.3 MB/s\u001b[0m eta \u001b[36m0:00:00\u001b[0m\n",
            "\u001b[?25h"
          ]
        }
      ],
      "source": [
        "%pip install -q google-colab-selenium"
      ]
    },
    {
      "cell_type": "code",
      "execution_count": 2,
      "metadata": {
        "id": "_GPPCAzOj-mG"
      },
      "outputs": [],
      "source": [
        "import google_colab_selenium as gs\n",
        "from selenium.webdriver.common.by import By"
      ]
    },
    {
      "cell_type": "code",
      "execution_count": 3,
      "metadata": {
        "colab": {
          "base_uri": "https://localhost:8080/",
          "height": 78
        },
        "id": "rsJnz63jmtw1",
        "outputId": "4de53d7d-d1d1-4a67-e465-e2d47811b95d"
      },
      "outputs": [
        {
          "data": {
            "text/html": [
              "\n",
              "            <div class=\"spinner-container\">\n",
              "                <div class=\"spinner\" id=\"7d2b152f-fc7f-405b-ab18-970b86a3e112-circle\"></div>\n",
              "                <div class=\"spinner-text\" id=\"7d2b152f-fc7f-405b-ab18-970b86a3e112-text\">Updating and upgrading APT</div>\n",
              "            </div>\n",
              "            <style>\n",
              "                @keyframes spin {\n",
              "                    from { transform: rotate(0deg); }\n",
              "                    to { transform: rotate(360deg); }\n",
              "                }\n",
              "\n",
              "                .spinner-container {\n",
              "                    display: flex;\n",
              "                    align-items: center;\n",
              "                    margin-bottom: 3px;\n",
              "                }\n",
              "\n",
              "                .spinner {\n",
              "                    border: 3px solid rgba(0, 0, 0, 0.1);\n",
              "                    border-left-color: lightblue;\n",
              "                    border-radius: 50%;\n",
              "                    width: 12px;\n",
              "                    height: 12px;\n",
              "                    animation: spin 1s linear infinite;\n",
              "                }\n",
              "\n",
              "                .spinner-text {\n",
              "                    padding-left: 6px;\n",
              "                }\n",
              "            </style>\n",
              "        "
            ],
            "text/plain": [
              "<IPython.core.display.HTML object>"
            ]
          },
          "metadata": {},
          "output_type": "display_data"
        },
        {
          "data": {
            "application/javascript": "\n            const element = document.getElementById(\"7d2b152f-fc7f-405b-ab18-970b86a3e112-circle\");\n            element.style.border = \"3px solid limegreen\";\n            element.style.animation = \"none\";\n\n            const text = document.getElementById(\"7d2b152f-fc7f-405b-ab18-970b86a3e112-text\");\n            text.innerText = \"Updated and upgraded APT\";\n        ",
            "text/plain": [
              "<IPython.core.display.Javascript object>"
            ]
          },
          "metadata": {},
          "output_type": "display_data"
        },
        {
          "data": {
            "text/html": [
              "\n",
              "            <div class=\"spinner-container\">\n",
              "                <div class=\"spinner\" id=\"237793e1-fb10-4553-b79f-7b82ce078ac3-circle\"></div>\n",
              "                <div class=\"spinner-text\" id=\"237793e1-fb10-4553-b79f-7b82ce078ac3-text\">Downloading Google Chrome</div>\n",
              "            </div>\n",
              "            <style>\n",
              "                @keyframes spin {\n",
              "                    from { transform: rotate(0deg); }\n",
              "                    to { transform: rotate(360deg); }\n",
              "                }\n",
              "\n",
              "                .spinner-container {\n",
              "                    display: flex;\n",
              "                    align-items: center;\n",
              "                    margin-bottom: 3px;\n",
              "                }\n",
              "\n",
              "                .spinner {\n",
              "                    border: 3px solid rgba(0, 0, 0, 0.1);\n",
              "                    border-left-color: lightblue;\n",
              "                    border-radius: 50%;\n",
              "                    width: 12px;\n",
              "                    height: 12px;\n",
              "                    animation: spin 1s linear infinite;\n",
              "                }\n",
              "\n",
              "                .spinner-text {\n",
              "                    padding-left: 6px;\n",
              "                }\n",
              "            </style>\n",
              "        "
            ],
            "text/plain": [
              "<IPython.core.display.HTML object>"
            ]
          },
          "metadata": {},
          "output_type": "display_data"
        },
        {
          "data": {
            "application/javascript": "\n            const element = document.getElementById(\"237793e1-fb10-4553-b79f-7b82ce078ac3-circle\");\n            element.style.border = \"3px solid limegreen\";\n            element.style.animation = \"none\";\n\n            const text = document.getElementById(\"237793e1-fb10-4553-b79f-7b82ce078ac3-text\");\n            text.innerText = \"Downloaded Google Chrome\";\n        ",
            "text/plain": [
              "<IPython.core.display.Javascript object>"
            ]
          },
          "metadata": {},
          "output_type": "display_data"
        },
        {
          "data": {
            "text/html": [
              "\n",
              "            <div class=\"spinner-container\">\n",
              "                <div class=\"spinner\" id=\"01f33a02-d197-42f1-920b-36ce18abbdb3-circle\"></div>\n",
              "                <div class=\"spinner-text\" id=\"01f33a02-d197-42f1-920b-36ce18abbdb3-text\">Initializing Chromedriver</div>\n",
              "            </div>\n",
              "            <style>\n",
              "                @keyframes spin {\n",
              "                    from { transform: rotate(0deg); }\n",
              "                    to { transform: rotate(360deg); }\n",
              "                }\n",
              "\n",
              "                .spinner-container {\n",
              "                    display: flex;\n",
              "                    align-items: center;\n",
              "                    margin-bottom: 3px;\n",
              "                }\n",
              "\n",
              "                .spinner {\n",
              "                    border: 3px solid rgba(0, 0, 0, 0.1);\n",
              "                    border-left-color: lightblue;\n",
              "                    border-radius: 50%;\n",
              "                    width: 12px;\n",
              "                    height: 12px;\n",
              "                    animation: spin 1s linear infinite;\n",
              "                }\n",
              "\n",
              "                .spinner-text {\n",
              "                    padding-left: 6px;\n",
              "                }\n",
              "            </style>\n",
              "        "
            ],
            "text/plain": [
              "<IPython.core.display.HTML object>"
            ]
          },
          "metadata": {},
          "output_type": "display_data"
        },
        {
          "data": {
            "application/javascript": "\n            const element = document.getElementById(\"01f33a02-d197-42f1-920b-36ce18abbdb3-circle\");\n            element.style.border = \"3px solid limegreen\";\n            element.style.animation = \"none\";\n\n            const text = document.getElementById(\"01f33a02-d197-42f1-920b-36ce18abbdb3-text\");\n            text.innerText = \"Initialized Chromedriver\";\n        ",
            "text/plain": [
              "<IPython.core.display.Javascript object>"
            ]
          },
          "metadata": {},
          "output_type": "display_data"
        }
      ],
      "source": [
        "driver = gs.Chrome()"
      ]
    },
    {
      "cell_type": "code",
      "execution_count": 6,
      "metadata": {
        "colab": {
          "base_uri": "https://localhost:8080/",
          "height": 55
        },
        "id": "PsqzdDJ9-Pyl",
        "outputId": "6b7bb34a-6605-4274-bd7f-3581c3966b06"
      },
      "outputs": [
        {
          "data": {
            "text/html": [
              "\n",
              "            <div class=\"spinner-container\">\n",
              "                <div class=\"spinner\" id=\"eebf6158-30ae-4638-963a-05507df41be6-circle\"></div>\n",
              "                <div class=\"spinner-text\" id=\"eebf6158-30ae-4638-963a-05507df41be6-text\">Initializing Chromedriver</div>\n",
              "            </div>\n",
              "            <style>\n",
              "                @keyframes spin {\n",
              "                    from { transform: rotate(0deg); }\n",
              "                    to { transform: rotate(360deg); }\n",
              "                }\n",
              "\n",
              "                .spinner-container {\n",
              "                    display: flex;\n",
              "                    align-items: center;\n",
              "                    margin-bottom: 3px;\n",
              "                }\n",
              "\n",
              "                .spinner {\n",
              "                    border: 3px solid rgba(0, 0, 0, 0.1);\n",
              "                    border-left-color: lightblue;\n",
              "                    border-radius: 50%;\n",
              "                    width: 12px;\n",
              "                    height: 12px;\n",
              "                    animation: spin 1s linear infinite;\n",
              "                }\n",
              "\n",
              "                .spinner-text {\n",
              "                    padding-left: 6px;\n",
              "                }\n",
              "            </style>\n",
              "        "
            ],
            "text/plain": [
              "<IPython.core.display.HTML object>"
            ]
          },
          "metadata": {},
          "output_type": "display_data"
        },
        {
          "data": {
            "application/javascript": "\n            const element = document.getElementById(\"eebf6158-30ae-4638-963a-05507df41be6-circle\");\n            element.style.border = \"3px solid limegreen\";\n            element.style.animation = \"none\";\n\n            const text = document.getElementById(\"eebf6158-30ae-4638-963a-05507df41be6-text\");\n            text.innerText = \"Initialized Chromedriver\";\n        ",
            "text/plain": [
              "<IPython.core.display.Javascript object>"
            ]
          },
          "metadata": {},
          "output_type": "display_data"
        },
        {
          "name": "stdout",
          "output_type": "stream",
          "text": [
            "Data telah disimpan ke dalam file data.csv\n"
          ]
        }
      ],
      "source": [
        "# driver = gs.Chrome()\n",
        "from datetime import datetime\n",
        "# driver.get('https://reviews.femaledaily.com/products/moisturizer/lotion-emulsion?brand=&order=popular&page=1')\n",
        "# response = driver.find_elements(By.CLASS_NAME, \"product-card\")\n",
        "# # columns = response.(By.CLASS_NAME, \"product-card\")\n",
        "\n",
        "# for item in response:\n",
        "#   print(item.get_attribute(\"href\"))\n",
        "\n",
        "# driver.quit()\n",
        "driver = gs.Chrome()\n",
        "\n",
        "data = []\n",
        "\n",
        "for x in range(100):\n",
        "    driver.get('https://reviews.femaledaily.com/products/moisturizer/lotion-emulsion/npure/face-toner-centella-asiatica?page=' + str(x+1))\n",
        "    response = driver.find_elements(By.CLASS_NAME, \"review-card\")\n",
        "\n",
        "    for item in response:\n",
        "        # Find username, date, and star rating elements\n",
        "        # username = item.find_element(By.CLASS_NAME, \"profile-username\")\n",
        "        # date = item.find_element(By.CLASS_NAME, \"review-date\")\n",
        "        # date = datetime.strptime(date, '%Y-%m-%dT%H:%M:%S.%f%z').strftime('%d-%m-%Y %I:%M %p')\n",
        "        content = item.find_element(By.CLASS_NAME, \"text-content\")\n",
        "        # data.append({'Username': username.text, 'Date': date.text, 'Comment': content.text})\n",
        "        data.append({'Comment': content.text})\n",
        "import csv\n",
        "\n",
        "# Simpan data ke dalam file CSV\n",
        "with open('data.csv', 'w', newline='', encoding='utf-8') as csvfile:\n",
        "    # fieldnames = ['Username', 'Date', 'Comment']\n",
        "    fieldnames = ['Comment']\n",
        "    writer = csv.DictWriter(csvfile, fieldnames=fieldnames)\n",
        "\n",
        "    writer.writeheader()\n",
        "\n",
        "    # Tulis setiap baris data\n",
        "    for i in data:\n",
        "        writer.writerow(i)\n",
        "\n",
        "print(\"Data telah disimpan ke dalam file data.csv\")\n",
        "\n",
        "\n",
        "driver.quit()"
      ]
    },
    {
      "cell_type": "code",
      "execution_count": 7,
      "metadata": {
        "id": "FKkJn5LMFS6o"
      },
      "outputs": [],
      "source": [
        "from datetime import datetime, timedelta\n",
        "import pandas as pd\n",
        "\n",
        "def convert_to_date(time_str):\n",
        "    if 'hours' in time_str:\n",
        "        hours_ago = int(time_str.split()[0])\n",
        "        return (datetime.now() - timedelta(hours=hours_ago)).strftime('%d-%m-%Y ')\n",
        "    elif 'day' in time_str:\n",
        "        days_ago = 1 if time_str.split()[0] == 'a' else int(time_str.split()[0])\n",
        "        return (datetime.now() - timedelta(days=days_ago)).strftime('%d-%m-%Y ')\n",
        "    else:\n",
        "        return datetime.strptime(time_str, \"%d %b %Y\").strftime('%d-%m-%Y ')\n",
        "\n",
        "data = pd.read_csv('data.csv')\n",
        "\n",
        "data['Date']=data['Date'].apply(convert_to_date)\n",
        "\n",
        "data.to_csv('data_scrapping_femaledaily.csv',index=False)"
      ]
    }
  ],
  "metadata": {
    "colab": {
      "provenance": []
    },
    "kernelspec": {
      "display_name": "Python 3",
      "name": "python3"
    },
    "language_info": {
      "name": "python"
    }
  },
  "nbformat": 4,
  "nbformat_minor": 0
}
