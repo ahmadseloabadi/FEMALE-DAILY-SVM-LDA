{
 "cells": [
  {
   "cell_type": "code",
   "execution_count": null,
   "metadata": {},
   "outputs": [],
   "source": [
    "import pandas as pd\n",
    "\n",
    "# Read CSV files into dataframes\n",
    "data1 = pd.read_csv('hasil_labeling_lexicon.csv')\n",
    "data2 = pd.read_csv('hasil_TOPIC & SENTIMEN.csv')\n"
   ]
  },
  {
   "cell_type": "code",
   "execution_count": null,
   "metadata": {},
   "outputs": [],
   "source": [
    "data2.head()"
   ]
  },
  {
   "cell_type": "code",
   "execution_count": null,
   "metadata": {},
   "outputs": [],
   "source": [
    "# Merge dataframes\n",
    "result = pd.concat([data1,data2])"
   ]
  },
  {
   "cell_type": "code",
   "execution_count": null,
   "metadata": {},
   "outputs": [],
   "source": [
    "import pandas as pd\n",
    "data = pd.read_csv('Hasil_Data.csv')"
   ]
  },
  {
   "cell_type": "code",
   "execution_count": null,
   "metadata": {},
   "outputs": [],
   "source": [
    "# Filter DataFrame untuk label topik 'applied buying'\n",
    "applied_buying_data = data[data['topic_label'] == 'Application Buying']\n",
    "\n",
    "# Hitung jumlah nilai positif dan negatif dari kolom 'sentiment'\n",
    "jumlah_positif_applied_buying = (applied_buying_data['sentiment'] == 'positif').sum()\n",
    "jumlah_negatif_applied_buying = (applied_buying_data['sentiment'] == 'negatif').sum()\n",
    "\n",
    "print(\"Jumlah nilai positif pada label 'Applied Buying':\", jumlah_positif_applied_buying)\n",
    "print(\"Jumlah nilai negatif pada label 'Applied Buying':\", jumlah_negatif_applied_buying)\n",
    "\n",
    "# Filter DataFrame untuk label topik 'applied applied'\n",
    "applied_applied_data = data[data['topic_label'] == 'Application Applied']\n",
    "\n",
    "# Hitung jumlah nilai positif dan negatif dari kolom 'sentiment'\n",
    "jumlah_positif_applied_applied = (applied_applied_data['sentiment'] == 'positif').sum()\n",
    "jumlah_negatif_applied_applied = (applied_applied_data['sentiment'] == 'negatif').sum()\n",
    "\n",
    "print(\"Jumlah nilai positif pada label 'Applied Applied':\", jumlah_positif_applied_applied)\n",
    "print(\"Jumlah nilai negatif pada label 'Applied Applied':\", jumlah_negatif_applied_applied)\n",
    "\n"
   ]
  },
  {
   "cell_type": "code",
   "execution_count": null,
   "metadata": {},
   "outputs": [],
   "source": [
    "result.to_csv(r'Hasil_Data.csv', index=False)"
   ]
  }
 ],
 "metadata": {
  "kernelspec": {
   "display_name": "Python 3",
   "language": "python",
   "name": "python3"
  },
  "language_info": {
   "codemirror_mode": {
    "name": "ipython",
    "version": 3
   },
   "file_extension": ".py",
   "mimetype": "text/x-python",
   "name": "python",
   "nbconvert_exporter": "python",
   "pygments_lexer": "ipython3",
   "version": "3.10.6"
  }
 },
 "nbformat": 4,
 "nbformat_minor": 2
}
