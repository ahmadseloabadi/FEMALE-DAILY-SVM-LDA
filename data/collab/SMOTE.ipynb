{
  "cells": [
    {
      "cell_type": "code",
      "execution_count": 49,
      "metadata": {
        "id": "kKm5wF0DabpZ"
      },
      "outputs": [],
      "source": [
        "from sklearn.feature_extraction.text import TfidfVectorizer, CountVectorizer\n",
        "from imblearn.over_sampling import SMOTE\n",
        "from collections import Counter\n",
        "import csv\n",
        "import pandas as pd"
      ]
    },
    {
      "cell_type": "code",
      "execution_count": 50,
      "metadata": {
        "colab": {
          "base_uri": "https://localhost:8080/"
        },
        "id": "0xKPsJtPaxjC",
        "outputId": "cb763de4-8ceb-4ad0-f792-9f27ddb26c7c"
      },
      "outputs": [
        {
          "data": {
            "text/plain": [
              "polarity\n",
              "negative    608\n",
              "positive    392\n",
              "Name: count, dtype: int64"
            ]
          },
          "execution_count": 50,
          "metadata": {},
          "output_type": "execute_result"
        }
      ],
      "source": [
        "ulasan=pd.read_csv('../dataset/Hasil.csv')\n",
        "ulasan.drop(ulasan.tail(3).index, inplace=True)\n",
        "sentiment_count = ulasan['polarity'].value_counts()\n",
        "sentiment_count\n"
      ]
    },
    {
      "cell_type": "code",
      "execution_count": 51,
      "metadata": {
        "colab": {
          "base_uri": "https://localhost:8080/",
          "height": 130
        },
        "id": "mQfe0E8Kahus",
        "outputId": "4b64bafb-dee9-4040-b5f8-364b9944f7a5"
      },
      "outputs": [
        {
          "name": "stdout",
          "output_type": "stream",
          "text": [
            "Dataset sebelum SMOTE : Counter({0: 484, 1: 316})\n",
            "Dataset sesudah SMOTE : Counter({0: 484, 1: 484})\n"
          ]
        }
      ],
      "source": [
        "from sklearn.model_selection import train_test_split\n",
        "from sklearn.preprocessing import LabelEncoder\n",
        "\n",
        "vectorizer = TfidfVectorizer(max_features=2000, max_df=0.75, min_df=5)  # Tambahkan max_df dan min_df\n",
        "\n",
        "Encoder = LabelEncoder()\n",
        "ulasan['polarity']  = Encoder.fit_transform(ulasan['polarity'] )\n",
        "\n",
        "x_res =vectorizer.fit_transform(ulasan['content_preprocessing'])\n",
        "y_res =ulasan['polarity']\n",
        "X_train, X_test, y_train, y_test = train_test_split(x_res, y_res, test_size=0.2,random_state=42)\n",
        "\n",
        "\n",
        "print(f'Dataset sebelum SMOTE : {Counter(y_train)}')\n",
        "#penerapan smote\n",
        "smote = SMOTE(sampling_strategy='auto')\n",
        "X_smote, Y_smote = smote.fit_resample(X_train, y_train)\n",
        "print(f'Dataset sesudah SMOTE : {Counter(Y_smote)}')\n",
        "\n"
      ]
    },
    {
      "cell_type": "code",
      "execution_count": 52,
      "metadata": {
        "colab": {
          "base_uri": "https://localhost:8080/"
        },
        "id": "OT1_sZ3Daqkh",
        "outputId": "767ecf9e-baa5-4c34-9308-46ffd4dfc7f7"
      },
      "outputs": [
        {
          "name": "stdout",
          "output_type": "stream",
          "text": [
            "[(0, 484), (1, 484)]\n"
          ]
        }
      ],
      "source": [
        "print(sorted(Counter(Y_smote).items()))\n"
      ]
    },
    {
      "cell_type": "code",
      "execution_count": 54,
      "metadata": {
        "colab": {
          "base_uri": "https://localhost:8080/",
          "height": 424
        },
        "id": "0qRy_udCas6z",
        "outputId": "0f6659c2-f926-4c52-efad-bafced8d6fd8"
      },
      "outputs": [
        {
          "data": {
            "text/html": [
              "<div>\n",
              "<style scoped>\n",
              "    .dataframe tbody tr th:only-of-type {\n",
              "        vertical-align: middle;\n",
              "    }\n",
              "\n",
              "    .dataframe tbody tr th {\n",
              "        vertical-align: top;\n",
              "    }\n",
              "\n",
              "    .dataframe thead th {\n",
              "        text-align: right;\n",
              "    }\n",
              "</style>\n",
              "<table border=\"1\" class=\"dataframe\">\n",
              "  <thead>\n",
              "    <tr style=\"text-align: right;\">\n",
              "      <th></th>\n",
              "      <th>TF-IDF</th>\n",
              "      <th>sentimen</th>\n",
              "      <th>kalimat_asli</th>\n",
              "    </tr>\n",
              "  </thead>\n",
              "  <tbody>\n",
              "    <tr>\n",
              "      <th>0</th>\n",
              "      <td>(0, 473)\\t0.20882954524218905\\n  (0, 796)\\t0...</td>\n",
              "      <td>0</td>\n",
              "      <td>mungkin viral kata kemarin nyobain ph sih bau ...</td>\n",
              "    </tr>\n",
              "    <tr>\n",
              "      <th>1</th>\n",
              "      <td>(0, 717)\\t0.16014122263944605\\n  (0, 8)\\t0.2...</td>\n",
              "      <td>0</td>\n",
              "      <td>stop ajaa purging gacocok sii dalem bahan taku...</td>\n",
              "    </tr>\n",
              "    <tr>\n",
              "      <th>2</th>\n",
              "      <td>(0, 70)\\t0.27139091758774325\\n  (0, 717)\\t0....</td>\n",
              "      <td>0</td>\n",
              "      <td>batu stop tempat jalan minggu timbul putus mak...</td>\n",
              "    </tr>\n",
              "    <tr>\n",
              "      <th>3</th>\n",
              "      <td>(0, 711)\\t0.25408003333643114\\n  (0, 553)\\t0...</td>\n",
              "      <td>0</td>\n",
              "      <td>sold paket wa preloved gatel minggu berat rasa...</td>\n",
              "    </tr>\n",
              "    <tr>\n",
              "      <th>4</th>\n",
              "      <td>(0, 289)\\t0.18794128659198747\\n  (0, 177)\\t0...</td>\n",
              "      <td>0</td>\n",
              "      <td>ig di ering kuat salicylic pori jauh hijau ben...</td>\n",
              "    </tr>\n",
              "    <tr>\n",
              "      <th>...</th>\n",
              "      <td>...</td>\n",
              "      <td>...</td>\n",
              "      <td>...</td>\n",
              "    </tr>\n",
              "    <tr>\n",
              "      <th>963</th>\n",
              "      <td>(0, 374)\\t0.0220024394093043\\n  (0, 550)\\t0....</td>\n",
              "      <td>1</td>\n",
              "      <td>kompres pakai hari deh cocok kalau suka nya ke...</td>\n",
              "    </tr>\n",
              "    <tr>\n",
              "      <th>964</th>\n",
              "      <td>(0, 769)\\t0.10547838397022413\\n  (0, 560)\\t0...</td>\n",
              "      <td>1</td>\n",
              "      <td>toner pas npure breakout bikin jadi beli kandu...</td>\n",
              "    </tr>\n",
              "    <tr>\n",
              "      <th>965</th>\n",
              "      <td>(0, 307)\\t0.06312386358990682\\n  (0, 138)\\t0...</td>\n",
              "      <td>1</td>\n",
              "      <td>jadi centella wajah kali buat harga tekstur wa...</td>\n",
              "    </tr>\n",
              "    <tr>\n",
              "      <th>966</th>\n",
              "      <td>(0, 318)\\t0.19355708559704443\\n  (0, 446)\\t0...</td>\n",
              "      <td>1</td>\n",
              "      <td>jerawat memang muka ku buat tenang keluar teta...</td>\n",
              "    </tr>\n",
              "    <tr>\n",
              "      <th>967</th>\n",
              "      <td>(0, 560)\\t0.023483918708641634\\n  (0, 382)\\t...</td>\n",
              "      <td>1</td>\n",
              "      <td>pas kulit efek jadi seger asa lebih hidrasi ba...</td>\n",
              "    </tr>\n",
              "  </tbody>\n",
              "</table>\n",
              "<p>968 rows × 3 columns</p>\n",
              "</div>"
            ],
            "text/plain": [
              "                                                TF-IDF  sentimen  \\\n",
              "0      (0, 473)\\t0.20882954524218905\\n  (0, 796)\\t0...         0   \n",
              "1      (0, 717)\\t0.16014122263944605\\n  (0, 8)\\t0.2...         0   \n",
              "2      (0, 70)\\t0.27139091758774325\\n  (0, 717)\\t0....         0   \n",
              "3      (0, 711)\\t0.25408003333643114\\n  (0, 553)\\t0...         0   \n",
              "4      (0, 289)\\t0.18794128659198747\\n  (0, 177)\\t0...         0   \n",
              "..                                                 ...       ...   \n",
              "963    (0, 374)\\t0.0220024394093043\\n  (0, 550)\\t0....         1   \n",
              "964    (0, 769)\\t0.10547838397022413\\n  (0, 560)\\t0...         1   \n",
              "965    (0, 307)\\t0.06312386358990682\\n  (0, 138)\\t0...         1   \n",
              "966    (0, 318)\\t0.19355708559704443\\n  (0, 446)\\t0...         1   \n",
              "967    (0, 560)\\t0.023483918708641634\\n  (0, 382)\\t...         1   \n",
              "\n",
              "                                          kalimat_asli  \n",
              "0    mungkin viral kata kemarin nyobain ph sih bau ...  \n",
              "1    stop ajaa purging gacocok sii dalem bahan taku...  \n",
              "2    batu stop tempat jalan minggu timbul putus mak...  \n",
              "3    sold paket wa preloved gatel minggu berat rasa...  \n",
              "4    ig di ering kuat salicylic pori jauh hijau ben...  \n",
              "..                                                 ...  \n",
              "963  kompres pakai hari deh cocok kalau suka nya ke...  \n",
              "964  toner pas npure breakout bikin jadi beli kandu...  \n",
              "965  jadi centella wajah kali buat harga tekstur wa...  \n",
              "966  jerawat memang muka ku buat tenang keluar teta...  \n",
              "967  pas kulit efek jadi seger asa lebih hidrasi ba...  \n",
              "\n",
              "[968 rows x 3 columns]"
            ]
          },
          "execution_count": 54,
          "metadata": {},
          "output_type": "execute_result"
        }
      ],
      "source": [
        "df = pd.DataFrame(X_smote)\n",
        "df.rename(columns={0:'TF-IDF'}, inplace=True)\n",
        "df['sentimen'] = Y_smote\n",
        "# mengembalikan kalimat asli dari tfidf\n",
        "feature_names = vectorizer.get_feature_names_out()\n",
        "\n",
        "kalimat_asli = []\n",
        "for index, row in df.iterrows():\n",
        "    vektor_ulasan = X_smote[index]\n",
        "    kata_kunci = [feature_names[i] for i in vektor_ulasan.indices]\n",
        "    kalimat_asli.append(' '.join(kata_kunci))\n",
        "\n",
        "# tambahkan kolom baru dengan kalimat asli ke dalam data frame\n",
        "df['kalimat_asli'] = kalimat_asli\n",
        "df.to_csv('../smote/data_smote.csv', index=False)\n",
        "#mengambil data sintetik\n",
        "df_sintetik = df.iloc[800:]\n",
        "#menyimpan dalam bentuk csv\n",
        "df_sintetik.to_csv('../smote/data_sintetik.csv', index=False)\n",
        "df\n"
      ]
    },
    {
      "cell_type": "code",
      "execution_count": 57,
      "metadata": {},
      "outputs": [],
      "source": [
        "test = pd.DataFrame(X_test)\n",
        "test.rename(columns={0:'TF-IDF'}, inplace=True)\n",
        "test['sentimen'] = y_test.reset_index(drop=True)\n",
        "# mengembalikan kalimat asli dari tfidf\n",
        "feature_names = vectorizer.get_feature_names_out()\n",
        "\n",
        "kalimat_asli = []\n",
        "for index, row in test.iterrows():\n",
        "    vektor_ulasan = X_test[index]\n",
        "    kata_kunci = [feature_names[i] for i in vektor_ulasan.indices]\n",
        "    kalimat_asli.append(' '.join(kata_kunci))\n",
        "\n",
        "# tambahkan kolom baru dengan kalimat asli ke dalam data frame\n",
        "test['kalimat_asli'] = kalimat_asli\n",
        "test\n",
        "\n",
        "full_Smote = pd.concat([df, test], axis=0)\n",
        "\n",
        "full_Smote.to_csv('../smote/data_smote_full.csv', index=False)\n",
        "\n",
        "\n",
        "label_test=full_Smote['sentimen'].value_counts()\n",
        "\n",
        "\n"
      ]
    }
  ],
  "metadata": {
    "colab": {
      "provenance": []
    },
    "kernelspec": {
      "display_name": "Python 3",
      "name": "python3"
    },
    "language_info": {
      "codemirror_mode": {
        "name": "ipython",
        "version": 3
      },
      "file_extension": ".py",
      "mimetype": "text/x-python",
      "name": "python",
      "nbconvert_exporter": "python",
      "pygments_lexer": "ipython3",
      "version": "3.10.10"
    }
  },
  "nbformat": 4,
  "nbformat_minor": 0
}
